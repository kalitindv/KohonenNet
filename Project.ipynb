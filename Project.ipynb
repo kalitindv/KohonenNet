{
 "cells": [
  {
   "cell_type": "code",
   "execution_count": 1,
   "metadata": {},
   "outputs": [],
   "source": [
    "import numpy as np\n",
    "import random"
   ]
  },
  {
   "cell_type": "code",
   "execution_count": 2,
   "metadata": {},
   "outputs": [],
   "source": [
    "X = np.array([\n",
    "    [1,2],\n",
    "    [1,1],\n",
    "    [2,1],\n",
    "    [7,7]\n",
    "])"
   ]
  },
  {
   "cell_type": "code",
   "execution_count": 3,
   "metadata": {},
   "outputs": [],
   "source": [
    "def random_weight():\n",
    "    return int(random.random()*10)\n",
    "\n",
    "def distance_sqr(self, X_one, weight):\n",
    "    r = 0\n",
    "    for i in range(len(X_one)):\n",
    "        r += (X_one[i]-weight[i])**2\n",
    "    return r\n"
   ]
  },
  {
   "cell_type": "code",
   "execution_count": 4,
   "metadata": {},
   "outputs": [],
   "source": [
    "class Neuron:\n",
    "    def __init__(self, block_size, kernel, number):\n",
    "        self.block_size = block_size\n",
    "        self.kernel = kernel\n",
    "        self.number = number                    \n",
    "    def probability(self):\n",
    "        pass\n",
    "        \n",
    "\n",
    "class KohonenNetwork:\n",
    "    def __init__(self, block_size = 2, number_of_blocks=2):\n",
    "        self.net = []\n",
    "        self.block_size = block_size\n",
    "        self.number_of_blocks = number_of_blocks\n",
    "        self.blocks = []\n",
    "        \n",
    "    def new(self):\n",
    "        self.net = []\n",
    "        for i in range(self.number_of_blocks):\n",
    "            temp = []\n",
    "            for j in range(self.block_size):\n",
    "                temp.append(random_weight())\n",
    "            number = len(self.net)\n",
    "            self.net.append(Neuron(self.block_size, temp, number))\n",
    "    def load_from(self, X):\n",
    "        self.blocks = []\n",
    "        for i in NET.net:\n",
    "            temp = []\n",
    "            for X_one in X:\n",
    "                temp.append(probability(X_one))\n",
    "            self.blocks.append(temp.index(max(temp)))\n",
    "            \n"
   ]
  },
  {
   "cell_type": "code",
   "execution_count": 5,
   "metadata": {},
   "outputs": [],
   "source": [
    "NET = KohonenNetwork()\n"
   ]
  },
  {
   "cell_type": "code",
   "execution_count": 6,
   "metadata": {},
   "outputs": [
    {
     "name": "stdout",
     "output_type": "stream",
     "text": [
      "0\n"
     ]
    }
   ],
   "source": [
    "print(random_weight())"
   ]
  },
  {
   "cell_type": "code",
   "execution_count": 7,
   "metadata": {},
   "outputs": [],
   "source": [
    "NET.new()"
   ]
  },
  {
   "cell_type": "code",
   "execution_count": 8,
   "metadata": {},
   "outputs": [
    {
     "name": "stdout",
     "output_type": "stream",
     "text": [
      "[4, 2]  -  0\n",
      "[8, 6]  -  1\n"
     ]
    }
   ],
   "source": [
    "for i in NET.net:\n",
    "    print(i.kernel, ' - ', i.number)"
   ]
  },
  {
   "cell_type": "code",
   "execution_count": null,
   "metadata": {},
   "outputs": [],
   "source": []
  }
 ],
 "metadata": {
  "kernelspec": {
   "display_name": "Python 3",
   "language": "python",
   "name": "python3"
  },
  "language_info": {
   "codemirror_mode": {
    "name": "ipython",
    "version": 3
   },
   "file_extension": ".py",
   "mimetype": "text/x-python",
   "name": "python",
   "nbconvert_exporter": "python",
   "pygments_lexer": "ipython3",
   "version": "3.5.3"
  }
 },
 "nbformat": 4,
 "nbformat_minor": 2
}
